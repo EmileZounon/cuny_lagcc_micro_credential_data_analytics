{
  "nbformat": 4,
  "nbformat_minor": 0,
  "metadata": {
    "colab": {
      "name": "Unit3L1 Numpy Assignment.ipynb",
      "provenance": [],
      "authorship_tag": "ABX9TyMXmObVN4CoRiSg0dXtLvjv",
      "include_colab_link": true
    },
    "kernelspec": {
      "name": "python3",
      "display_name": "Python 3"
    }
  },
  "cells": [
    {
      "cell_type": "markdown",
      "metadata": {
        "id": "view-in-github",
        "colab_type": "text"
      },
      "source": [
        "<a href=\"https://colab.research.google.com/github/EmileZounon/cuny_lagcc_micro_credential_data_analytics/blob/main/Python/Unit3L1_Numpy_Assignment.ipynb\" target=\"_parent\"><img src=\"https://colab.research.google.com/assets/colab-badge.svg\" alt=\"Open In Colab\"/></a>"
      ]
    },
    {
      "cell_type": "code",
      "metadata": {
        "colab": {
          "base_uri": "https://localhost:8080/"
        },
        "id": "vZ5n8UamGB3r",
        "outputId": "e990d1fc-a820-4ad9-ec78-8bc95a46c9e9"
      },
      "source": [
        "\n",
        "import numpy as np\n",
        "np_olympic_country = np.array(['GBR','China','RUS','US','KOR','JPN','GER'])\n",
        "np_olympic_country_Gold = np.array([29,38,24,46,13,7,11])\n",
        "np_olympic_country_Silver = np.array([17,28,25,28,8,14,11])\n",
        "np_olympic_country_Bronze = np.array([19,22,32,29,7,17,14])\n",
        "\n",
        "\n",
        "#Find country with maximum gold\n",
        "high = np.where(np_olympic_country_Gold == np.max(np_olympic_country_Gold))\n",
        "print(\"The maximum number of Gold metals is \", np.max(np_olympic_country_Gold))\n",
        "print(\"The country with maximum gold is \", np_olympic_country[high] )\n",
        "\n",
        "#Find countries with more than 20 gold medals\n",
        "countrieswith20golds = np_olympic_country_Gold > 20\n",
        "print(countrieswith20golds)\n",
        "\n",
        "pos = np.where(np_olympic_country_Gold>20)\n",
        "print(\"the countries with more than 20 gold medals are: \", np_olympic_country[pos] )"
      ],
      "execution_count": 19,
      "outputs": [
        {
          "output_type": "stream",
          "text": [
            "The maximum number of Gold metals is  46\n",
            "The country with maximum gold is  ['US']\n",
            "[ True  True  True  True False False False]\n",
            "the countries with more than 20 gold medals are:  ['GBR' 'China' 'RUS' 'US']\n"
          ],
          "name": "stdout"
        }
      ]
    }
  ]
}